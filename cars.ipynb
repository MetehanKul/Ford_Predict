{
 "cells": [
  {
   "metadata": {
    "ExecuteTime": {
     "end_time": "2024-07-23T08:52:52.929138Z",
     "start_time": "2024-07-23T08:52:52.743368Z"
    }
   },
   "cell_type": "code",
   "source": [
    "import pandas as pd\n",
    "import numpy as np\n",
    "import matplotlib.pyplot as plt\n",
    "import seaborn as sns\n",
    "from sklearn.model_selection import train_test_split\n",
    "from sklearn.linear_model import LogisticRegression , LinearRegression\n",
    "from sklearn.metrics import mean_squared_error, r2_score\n",
    "from sklearn.preprocessing import LabelEncoder\n",
    "import pickle\n",
    "\n",
    "\n"
   ],
   "id": "60d0a6729497b65a",
   "outputs": [],
   "execution_count": 1
  },
  {
   "metadata": {
    "ExecuteTime": {
     "end_time": "2024-07-22T11:44:52.769155Z",
     "start_time": "2024-07-22T11:44:52.721729Z"
    }
   },
   "cell_type": "code",
   "source": [
    "df = pd.read_csv('ford.csv')\n",
    "\n",
    "\n",
    "df.head()\n",
    "\n",
    "df_new_column = columns = [\"Model\", \"Yıl\", \"Fiyat\", \"Şanzıman\", \"Kilometre\", \"Yakıt Türü\", \"Vergi\", \"Yakıt Tüketimi\", \"Motor Hacmi\" ]\n",
    "df.columns = df_new_column\n",
    "df.head(20)\n",
    "\n",
    "df.info()\n",
    "df.isnull().sum().sum()\n",
    "\n",
    "df.head()"
   ],
   "id": "4dbbc1a20924ae31",
   "outputs": [
    {
     "name": "stdout",
     "output_type": "stream",
     "text": [
      "<class 'pandas.core.frame.DataFrame'>\n",
      "RangeIndex: 17966 entries, 0 to 17965\n",
      "Data columns (total 9 columns):\n",
      " #   Column          Non-Null Count  Dtype  \n",
      "---  ------          --------------  -----  \n",
      " 0   Model           17966 non-null  object \n",
      " 1   Yıl             17966 non-null  int64  \n",
      " 2   Fiyat           17966 non-null  int64  \n",
      " 3   Şanzıman        17966 non-null  object \n",
      " 4   Kilometre       17966 non-null  int64  \n",
      " 5   Yakıt Türü      17966 non-null  object \n",
      " 6   Vergi           17966 non-null  int64  \n",
      " 7   Yakıt Tüketimi  17966 non-null  float64\n",
      " 8   Motor Hacmi     17966 non-null  float64\n",
      "dtypes: float64(2), int64(4), object(3)\n",
      "memory usage: 1.2+ MB\n"
     ]
    },
    {
     "data": {
      "text/plain": [
       "     Model   Yıl  Fiyat   Şanzıman  Kilometre Yakıt Türü  Vergi  \\\n",
       "0   Fiesta  2017  12000  Automatic      15944     Petrol    150   \n",
       "1    Focus  2018  14000     Manual       9083     Petrol    150   \n",
       "2    Focus  2017  13000     Manual      12456     Petrol    150   \n",
       "3   Fiesta  2019  17500     Manual      10460     Petrol    145   \n",
       "4   Fiesta  2019  16500  Automatic       1482     Petrol    145   \n",
       "\n",
       "   Yakıt Tüketimi  Motor Hacmi  \n",
       "0            57.7          1.0  \n",
       "1            57.7          1.0  \n",
       "2            57.7          1.0  \n",
       "3            40.3          1.5  \n",
       "4            48.7          1.0  "
      ],
      "text/html": [
       "<div>\n",
       "<style scoped>\n",
       "    .dataframe tbody tr th:only-of-type {\n",
       "        vertical-align: middle;\n",
       "    }\n",
       "\n",
       "    .dataframe tbody tr th {\n",
       "        vertical-align: top;\n",
       "    }\n",
       "\n",
       "    .dataframe thead th {\n",
       "        text-align: right;\n",
       "    }\n",
       "</style>\n",
       "<table border=\"1\" class=\"dataframe\">\n",
       "  <thead>\n",
       "    <tr style=\"text-align: right;\">\n",
       "      <th></th>\n",
       "      <th>Model</th>\n",
       "      <th>Yıl</th>\n",
       "      <th>Fiyat</th>\n",
       "      <th>Şanzıman</th>\n",
       "      <th>Kilometre</th>\n",
       "      <th>Yakıt Türü</th>\n",
       "      <th>Vergi</th>\n",
       "      <th>Yakıt Tüketimi</th>\n",
       "      <th>Motor Hacmi</th>\n",
       "    </tr>\n",
       "  </thead>\n",
       "  <tbody>\n",
       "    <tr>\n",
       "      <th>0</th>\n",
       "      <td>Fiesta</td>\n",
       "      <td>2017</td>\n",
       "      <td>12000</td>\n",
       "      <td>Automatic</td>\n",
       "      <td>15944</td>\n",
       "      <td>Petrol</td>\n",
       "      <td>150</td>\n",
       "      <td>57.7</td>\n",
       "      <td>1.0</td>\n",
       "    </tr>\n",
       "    <tr>\n",
       "      <th>1</th>\n",
       "      <td>Focus</td>\n",
       "      <td>2018</td>\n",
       "      <td>14000</td>\n",
       "      <td>Manual</td>\n",
       "      <td>9083</td>\n",
       "      <td>Petrol</td>\n",
       "      <td>150</td>\n",
       "      <td>57.7</td>\n",
       "      <td>1.0</td>\n",
       "    </tr>\n",
       "    <tr>\n",
       "      <th>2</th>\n",
       "      <td>Focus</td>\n",
       "      <td>2017</td>\n",
       "      <td>13000</td>\n",
       "      <td>Manual</td>\n",
       "      <td>12456</td>\n",
       "      <td>Petrol</td>\n",
       "      <td>150</td>\n",
       "      <td>57.7</td>\n",
       "      <td>1.0</td>\n",
       "    </tr>\n",
       "    <tr>\n",
       "      <th>3</th>\n",
       "      <td>Fiesta</td>\n",
       "      <td>2019</td>\n",
       "      <td>17500</td>\n",
       "      <td>Manual</td>\n",
       "      <td>10460</td>\n",
       "      <td>Petrol</td>\n",
       "      <td>145</td>\n",
       "      <td>40.3</td>\n",
       "      <td>1.5</td>\n",
       "    </tr>\n",
       "    <tr>\n",
       "      <th>4</th>\n",
       "      <td>Fiesta</td>\n",
       "      <td>2019</td>\n",
       "      <td>16500</td>\n",
       "      <td>Automatic</td>\n",
       "      <td>1482</td>\n",
       "      <td>Petrol</td>\n",
       "      <td>145</td>\n",
       "      <td>48.7</td>\n",
       "      <td>1.0</td>\n",
       "    </tr>\n",
       "  </tbody>\n",
       "</table>\n",
       "</div>"
      ]
     },
     "execution_count": 2,
     "metadata": {},
     "output_type": "execute_result"
    }
   ],
   "execution_count": 2
  },
  {
   "metadata": {
    "ExecuteTime": {
     "end_time": "2024-07-22T11:40:25.214190Z",
     "start_time": "2024-07-22T11:40:25.209539Z"
    }
   },
   "cell_type": "code",
   "source": "df.shape",
   "id": "37c3dd9141a4c7b8",
   "outputs": [
    {
     "data": {
      "text/plain": [
       "(17966, 9)"
      ]
     },
     "execution_count": 211,
     "metadata": {},
     "output_type": "execute_result"
    }
   ],
   "execution_count": 211
  },
  {
   "metadata": {
    "ExecuteTime": {
     "end_time": "2024-07-22T11:40:25.800026Z",
     "start_time": "2024-07-22T11:40:25.785523Z"
    }
   },
   "cell_type": "code",
   "source": [
    "df.duplicated().sum()\n",
    "df.drop_duplicates(inplace=True)\n",
    "df.shape"
   ],
   "id": "f77a78dcdf050318",
   "outputs": [
    {
     "data": {
      "text/plain": [
       "(17812, 9)"
      ]
     },
     "execution_count": 212,
     "metadata": {},
     "output_type": "execute_result"
    }
   ],
   "execution_count": 212
  },
  {
   "metadata": {
    "ExecuteTime": {
     "end_time": "2024-07-22T11:40:26.324100Z",
     "start_time": "2024-07-22T11:40:26.315709Z"
    }
   },
   "cell_type": "code",
   "source": [
    "for column in df.select_dtypes(include='object').columns:\n",
    "    unique_values = df[column].unique()\n",
    "    print(f\"Column '{column}' unique values =  {unique_values}\" , end=\"\\n\\n\")"
   ],
   "id": "8d3737c47624b1a0",
   "outputs": [
    {
     "name": "stdout",
     "output_type": "stream",
     "text": [
      "Column 'Model' unique values =  [' Fiesta' ' Focus' ' Puma' ' Kuga' ' EcoSport' ' C-MAX' ' Mondeo' ' Ka+'\n",
      " ' Tourneo Custom' ' S-MAX' ' B-MAX' ' Edge' ' Tourneo Connect'\n",
      " ' Grand C-MAX' ' KA' ' Galaxy' ' Mustang' ' Grand Tourneo Connect'\n",
      " ' Fusion' ' Ranger' ' Streetka' ' Escort' ' Transit Tourneo' 'Focus']\n",
      "\n",
      "Column 'Şanzıman' unique values =  ['Automatic' 'Manual' 'Semi-Auto']\n",
      "\n",
      "Column 'Yakıt Türü' unique values =  ['Petrol' 'Diesel' 'Hybrid' 'Electric' 'Other']\n",
      "\n"
     ]
    }
   ],
   "execution_count": 213
  },
  {
   "metadata": {},
   "cell_type": "markdown",
   "source": "## Encode İşlemi\n",
   "id": "944b84189b78ed8f"
  },
  {
   "metadata": {
    "ExecuteTime": {
     "end_time": "2024-07-22T11:40:27.327825Z",
     "start_time": "2024-07-22T11:40:27.314235Z"
    }
   },
   "cell_type": "code",
   "source": [
    "le = LabelEncoder()\n",
    "kategoric_column = df[[\"Model\" , \"Şanzıman\" , \"Yakıt Türü\" ]]\n",
    "\n",
    "label_encoders = {}\n",
    "for i in kategoric_column:\n",
    "    le = LabelEncoder()\n",
    "    df[i] = le.fit_transform(df[i])\n",
    "    label_encoders[i] = le\n"
   ],
   "id": "19b7df3645054a73",
   "outputs": [],
   "execution_count": 214
  },
  {
   "metadata": {
    "ExecuteTime": {
     "end_time": "2024-07-22T11:40:27.769102Z",
     "start_time": "2024-07-22T11:40:27.759945Z"
    }
   },
   "cell_type": "code",
   "source": [
    "kategoric_column.head()\n",
    "df.head()"
   ],
   "id": "31b98a46f8b4fd0e",
   "outputs": [
    {
     "data": {
      "text/plain": [
       "   Model   Yıl  Fiyat  Şanzıman  Kilometre  Yakıt Türü  Vergi  Yakıt Tüketimi  \\\n",
       "0      5  2017  12000         0      15944           4    150            57.7   \n",
       "1      6  2018  14000         1       9083           4    150            57.7   \n",
       "2      6  2017  13000         1      12456           4    150            57.7   \n",
       "3      5  2019  17500         1      10460           4    145            40.3   \n",
       "4      5  2019  16500         0       1482           4    145            48.7   \n",
       "\n",
       "   Motor Hacmi  \n",
       "0          1.0  \n",
       "1          1.0  \n",
       "2          1.0  \n",
       "3          1.5  \n",
       "4          1.0  "
      ],
      "text/html": [
       "<div>\n",
       "<style scoped>\n",
       "    .dataframe tbody tr th:only-of-type {\n",
       "        vertical-align: middle;\n",
       "    }\n",
       "\n",
       "    .dataframe tbody tr th {\n",
       "        vertical-align: top;\n",
       "    }\n",
       "\n",
       "    .dataframe thead th {\n",
       "        text-align: right;\n",
       "    }\n",
       "</style>\n",
       "<table border=\"1\" class=\"dataframe\">\n",
       "  <thead>\n",
       "    <tr style=\"text-align: right;\">\n",
       "      <th></th>\n",
       "      <th>Model</th>\n",
       "      <th>Yıl</th>\n",
       "      <th>Fiyat</th>\n",
       "      <th>Şanzıman</th>\n",
       "      <th>Kilometre</th>\n",
       "      <th>Yakıt Türü</th>\n",
       "      <th>Vergi</th>\n",
       "      <th>Yakıt Tüketimi</th>\n",
       "      <th>Motor Hacmi</th>\n",
       "    </tr>\n",
       "  </thead>\n",
       "  <tbody>\n",
       "    <tr>\n",
       "      <th>0</th>\n",
       "      <td>5</td>\n",
       "      <td>2017</td>\n",
       "      <td>12000</td>\n",
       "      <td>0</td>\n",
       "      <td>15944</td>\n",
       "      <td>4</td>\n",
       "      <td>150</td>\n",
       "      <td>57.7</td>\n",
       "      <td>1.0</td>\n",
       "    </tr>\n",
       "    <tr>\n",
       "      <th>1</th>\n",
       "      <td>6</td>\n",
       "      <td>2018</td>\n",
       "      <td>14000</td>\n",
       "      <td>1</td>\n",
       "      <td>9083</td>\n",
       "      <td>4</td>\n",
       "      <td>150</td>\n",
       "      <td>57.7</td>\n",
       "      <td>1.0</td>\n",
       "    </tr>\n",
       "    <tr>\n",
       "      <th>2</th>\n",
       "      <td>6</td>\n",
       "      <td>2017</td>\n",
       "      <td>13000</td>\n",
       "      <td>1</td>\n",
       "      <td>12456</td>\n",
       "      <td>4</td>\n",
       "      <td>150</td>\n",
       "      <td>57.7</td>\n",
       "      <td>1.0</td>\n",
       "    </tr>\n",
       "    <tr>\n",
       "      <th>3</th>\n",
       "      <td>5</td>\n",
       "      <td>2019</td>\n",
       "      <td>17500</td>\n",
       "      <td>1</td>\n",
       "      <td>10460</td>\n",
       "      <td>4</td>\n",
       "      <td>145</td>\n",
       "      <td>40.3</td>\n",
       "      <td>1.5</td>\n",
       "    </tr>\n",
       "    <tr>\n",
       "      <th>4</th>\n",
       "      <td>5</td>\n",
       "      <td>2019</td>\n",
       "      <td>16500</td>\n",
       "      <td>0</td>\n",
       "      <td>1482</td>\n",
       "      <td>4</td>\n",
       "      <td>145</td>\n",
       "      <td>48.7</td>\n",
       "      <td>1.0</td>\n",
       "    </tr>\n",
       "  </tbody>\n",
       "</table>\n",
       "</div>"
      ]
     },
     "execution_count": 215,
     "metadata": {},
     "output_type": "execute_result"
    }
   ],
   "execution_count": 215
  },
  {
   "metadata": {},
   "cell_type": "markdown",
   "source": "## Train Test",
   "id": "fb41df1ecce7471d"
  },
  {
   "metadata": {
    "ExecuteTime": {
     "end_time": "2024-07-22T11:40:28.993037Z",
     "start_time": "2024-07-22T11:40:28.985171Z"
    }
   },
   "cell_type": "code",
   "source": [
    "from sklearn.model_selection import train_test_split\n",
    "\n",
    "\n",
    "x = df.drop(columns='Fiyat')  \n",
    "y = df['Fiyat']    \n",
    "x_train, x_test, y_train, y_test = train_test_split(x , y , test_size=0.2, random_state=0)"
   ],
   "id": "b9205b602bf2b3d2",
   "outputs": [],
   "execution_count": 216
  },
  {
   "metadata": {
    "ExecuteTime": {
     "end_time": "2024-07-22T11:40:29.597108Z",
     "start_time": "2024-07-22T11:40:29.583371Z"
    }
   },
   "cell_type": "code",
   "source": [
    "model = LinearRegression()\n",
    "\n",
    "model.fit(x_train, y_train)\n",
    "\n",
    "y_pred = model.predict(x_test)\n",
    "y_pred[:10]"
   ],
   "id": "fc098d5829b1e045",
   "outputs": [
    {
     "data": {
      "text/plain": [
       "array([19719.86977486, 18271.52571168, 17418.0164979 ,  8651.94114017,\n",
       "       15487.50190049, 13629.79342231, 10102.09718761,  7682.92822821,\n",
       "       13735.94110563, 11519.04202988])"
      ]
     },
     "execution_count": 217,
     "metadata": {},
     "output_type": "execute_result"
    }
   ],
   "execution_count": 217
  },
  {
   "metadata": {
    "ExecuteTime": {
     "end_time": "2024-07-22T11:40:30.080081Z",
     "start_time": "2024-07-22T11:40:30.072164Z"
    }
   },
   "cell_type": "code",
   "source": [
    "np.sqrt(mean_squared_error(y_test, y_pred))\n",
    "model.score(x_test , y_test)"
   ],
   "id": "eff41ff9779ef06b",
   "outputs": [
    {
     "data": {
      "text/plain": [
       "0.7218711682798387"
      ]
     },
     "execution_count": 218,
     "metadata": {},
     "output_type": "execute_result"
    }
   ],
   "execution_count": 218
  },
  {
   "metadata": {
    "ExecuteTime": {
     "end_time": "2024-07-22T11:40:30.660874Z",
     "start_time": "2024-07-22T11:40:30.656225Z"
    }
   },
   "cell_type": "code",
   "source": "model = model.predict(x_test)",
   "id": "d6caa561551aaa5c",
   "outputs": [],
   "execution_count": 219
  },
  {
   "metadata": {
    "ExecuteTime": {
     "end_time": "2024-07-22T11:40:31.149084Z",
     "start_time": "2024-07-22T11:40:31.140010Z"
    }
   },
   "cell_type": "code",
   "source": [
    "model = LinearRegression()\n",
    "model.fit(x_train, y_train)\n",
    "\n",
    "with open('model.pkl', 'wb') as f:\n",
    "    pickle.dump(model, f)\n"
   ],
   "id": "f7741e99aff9596a",
   "outputs": [],
   "execution_count": 220
  },
  {
   "metadata": {
    "ExecuteTime": {
     "end_time": "2024-07-22T11:40:34.333600Z",
     "start_time": "2024-07-22T11:40:34.331099Z"
    }
   },
   "cell_type": "code",
   "source": "",
   "id": "651d0379b45f9fc7",
   "execution_count": 220,
   "outputs": []
  },
  {
   "metadata": {
    "ExecuteTime": {
     "end_time": "2024-07-22T11:39:15.226803Z",
     "start_time": "2024-07-22T11:39:15.225206Z"
    }
   },
   "cell_type": "code",
   "source": "",
   "id": "74cbb0810c0e536a",
   "outputs": [],
   "execution_count": 208
  }
 ],
 "metadata": {
  "kernelspec": {
   "display_name": "Python 3",
   "language": "python",
   "name": "python3"
  },
  "language_info": {
   "codemirror_mode": {
    "name": "ipython",
    "version": 2
   },
   "file_extension": ".py",
   "mimetype": "text/x-python",
   "name": "python",
   "nbconvert_exporter": "python",
   "pygments_lexer": "ipython2",
   "version": "2.7.6"
  }
 },
 "nbformat": 4,
 "nbformat_minor": 5
}
